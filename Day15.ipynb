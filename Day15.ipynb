{
  "nbformat": 4,
  "nbformat_minor": 0,
  "metadata": {
    "colab": {
      "provenance": []
    },
    "kernelspec": {
      "name": "python3",
      "display_name": "Python 3"
    },
    "language_info": {
      "name": "python"
    }
  },
  "cells": [
    {
      "cell_type": "code",
      "execution_count": null,
      "metadata": {
        "colab": {
          "base_uri": "https://localhost:8080/"
        },
        "id": "ZIJIN3oovRDD",
        "outputId": "cc9062ce-099a-42b8-a5c7-b1468d7d9fa0"
      },
      "outputs": [
        {
          "output_type": "stream",
          "name": "stdout",
          "text": [
            "Amount 10000 deposited.\n",
            "Remaining balance: 10000\n",
            "Amount 5000 withdrawn.\n",
            "Remaining balance: 5000\n",
            "Invalid PIN.\n"
          ]
        }
      ],
      "source": [
        "'''\tWrite a program to create a bank account: -\tCreate a class that constructs an object with user-name, user-id, pin and balance = 0 by default as private attributes.\n",
        "-\tClass should contain private methods __deposit and __withdraw which take amount as argument.-\ta method transaction to access the above private attributes and method.\n",
        " When method is called it authenticate through pin and performs a single transaction either __deposit or __withdraw. -\t__deposit method add amount to balance and displays massage\n",
        " amount deposited and display balance.-\t__withdraw method withdraw amount if there is sufficient balance and displays message amount withdrawn and show remaining balance.\n",
        " Perform at least three transactions.'''\n",
        "class BankAccount:\n",
        "    def __init__(self, username, userid, pin):\n",
        "        self.__username = username\n",
        "        self.__userid = userid\n",
        "        self.__pin = pin\n",
        "        self.__balance = 0\n",
        "    def __deposit(self, amount):\n",
        "        self.__balance += amount\n",
        "        print(f\"Amount {amount} deposited.\")\n",
        "        self.__display_balance()\n",
        "    def __withdraw(self, amount):\n",
        "        if self.__balance >= amount:\n",
        "            self.__balance -= amount\n",
        "            print(f\"Amount {amount} withdrawn.\")\n",
        "            self.__display_balance()\n",
        "        else:\n",
        "            print(\"Insufficient balance.\")\n",
        "    def __display_balance(self):\n",
        "        print(f\"Remaining balance: {self.__balance}\")\n",
        "    def transaction(self, entered_pin, amount, transaction_type):\n",
        "        if entered_pin == self.__pin:\n",
        "            if transaction_type == 'deposit':\n",
        "                self.__deposit(amount)\n",
        "            elif transaction_type == 'withdraw':\n",
        "                self.__withdraw(amount)\n",
        "            else:\n",
        "                print(\"Invalid transaction type.\")\n",
        "        else:\n",
        "            print(\"Invalid PIN.\")\n",
        "account = BankAccount(\"Divya\", \"18141\", \"1234\")\n",
        "account.transaction(\"1234\",10000,\"deposit\")\n",
        "account.transaction(\"1234\",5000,\"withdraw\")\n",
        "account.transaction(\"9876\",100,\"withdraw\")"
      ]
    },
    {
      "cell_type": "code",
      "source": [
        "'''Write a program to perform search operation based on filter:\n",
        "-\tA dictionary contains house-id as keys\n",
        "-\tDictionary values include:\n",
        "   \t{rent, house-type, furnished or not} - attributes\n",
        "    {int, string, Boolean} – attributes_data_types\n",
        "-\tProvide search results based on budget, house-type and Boolean.\n",
        "-\tHouse types: 1bhk, 2bhk, 3bhk'''\n",
        "class HouseSearch:\n",
        "    def __init__(self, houses):\n",
        "        self.houses = houses\n",
        "\n",
        "    def search(self, budget, house_type, is_furnished):\n",
        "      results = []\n",
        "      for house_id, attributes in self.houses.items():\n",
        "        rent, type, furnished = attributes\n",
        "        if rent <= budget and type == house_type and furnished == is_furnished:\n",
        "                results.append(house_id)\n",
        "      return results\n",
        "houses = {\n",
        "    \"1\": [10000, \"1bhk\", True],\n",
        "    \"2\": [15000, \"2bhk\", False],\n",
        "    \"3\": [20000, \"3bhk\", True],\n",
        "    \"4\": [12000, \"1bhk\", False],\n",
        "    \"5\": [18000, \"2bhk\", True]\n",
        "}\n",
        "\n",
        "search_engine = HouseSearch(houses)\n",
        "budget = 18000\n",
        "house_type = \"2bhk\"\n",
        "is_furnished = True\n",
        "\n",
        "results = search_engine.search(budget, house_type, is_furnished)\n",
        "if results:\n",
        "    print(\"Search results:\")\n",
        "    for house_id in results:\n",
        "        print(f\"House ID: {house_id}\")\n",
        "else:\n",
        "    print(\"No houses found matching the search criteria.\")"
      ],
      "metadata": {
        "colab": {
          "base_uri": "https://localhost:8080/"
        },
        "id": "calef4M-yCHw",
        "outputId": "9d9c9a3b-6a17-4114-f4c7-faac69cf5824"
      },
      "execution_count": null,
      "outputs": [
        {
          "output_type": "stream",
          "name": "stdout",
          "text": [
            "Search results:\n",
            "House ID: 5\n"
          ]
        }
      ]
    },
    {
      "cell_type": "code",
      "source": [
        "''' Write a program to create list_extenstion class inheriting list class and\n",
        "define a method that return all the indexes of element as list if there no\n",
        "element presents in list return empty list.\n",
        "-\tlist: [121,115, 89,54, 121, 110,33, 92, 44,67]\n",
        "-\tlist_extenstion(list) – obj construction\n",
        "-\tobj. indexes (121) returns [0,4]\n",
        "Also perform list built-in method on child class.\n",
        " -\tobj. sort ()\n",
        " -\tobj. reverse ()\n",
        " - obj. append ()\n",
        "Hint: use self to access elements of list.\n",
        "\t\tself [0] gives the first element of the list and so-on.'''\n",
        "class list_extension(list):\n",
        "    def indexes(self, element):\n",
        "        indices = [i for i, x in enumerate(self) if x == element]\n",
        "        return indices\n",
        "my_list = [121, 115, 89, 54, 121, 110, 33, 92, 44, 67]\n",
        "\n",
        "obj = list_extension(my_list)\n",
        "print(obj.indexes(121))  # Output: [0, 4]\n",
        "print(obj.indexes(100))  # Output: []\n",
        "\n",
        "obj.sort()\n",
        "print(\"Sorted List:\", obj)\n",
        "\n",
        "obj.reverse()\n",
        "print(\"Reversed List:\", obj)\n",
        "\n",
        "obj.append(123)\n",
        "print(\"Appended List:\", obj)"
      ],
      "metadata": {
        "colab": {
          "base_uri": "https://localhost:8080/"
        },
        "id": "uP6tx_QHy7IX",
        "outputId": "6e91d07c-b59a-4856-a647-76b3ba58bb05"
      },
      "execution_count": null,
      "outputs": [
        {
          "output_type": "stream",
          "name": "stdout",
          "text": [
            "[0, 4]\n",
            "[]\n",
            "Sorted List: [33, 44, 54, 67, 89, 92, 110, 115, 121, 121]\n",
            "Reversed List: [121, 121, 115, 110, 92, 89, 67, 54, 44, 33]\n",
            "Appended List: [121, 121, 115, 110, 92, 89, 67, 54, 44, 33, 123]\n"
          ]
        }
      ]
    },
    {
      "cell_type": "code",
      "source": [
        "'''4.\tWrite a program to play “rock-paper-scissor” between computer and player.\n",
        "Hint: random. choice ()'''\n",
        "import random\n",
        "class RockPaperScissors:\n",
        "    def __init__(self):\n",
        "        self.choices = ['rock', 'paper', 'scissors']\n",
        "\n",
        "    def play(self):\n",
        "        player_choice = input(\"Enter your choice (rock/paper/scissors): \").lower()\n",
        "        if player_choice not in self.choices:\n",
        "            print(\"Invalid choice. Please enter rock, paper, or scissors.\")\n",
        "            return\n",
        "\n",
        "        computer_choice = random.choice(self.choices)\n",
        "\n",
        "        print(f\"Computer's choice: {computer_choice}\")\n",
        "\n",
        "        if player_choice == computer_choice:\n",
        "            print(\"It's a tie!\")\n",
        "        elif (player_choice == 'rock' and computer_choice == 'scissors') or \\\n",
        "             (player_choice == 'paper' and computer_choice == 'rock') or \\\n",
        "             (player_choice == 'scissors' and computer_choice == 'paper'):\n",
        "            print(\"You win!\")\n",
        "        else:\n",
        "            print(\"Computer wins!\")\n",
        "\n",
        "game = RockPaperScissors()\n",
        "game.play()"
      ],
      "metadata": {
        "colab": {
          "base_uri": "https://localhost:8080/"
        },
        "id": "5OfPMzKIzZaJ",
        "outputId": "ed1983dd-d90f-4dce-c713-d32bc280e95e"
      },
      "execution_count": null,
      "outputs": [
        {
          "output_type": "stream",
          "name": "stdout",
          "text": [
            "Enter your choice (rock/paper/scissors): rock\n",
            "Computer's choice: scissors\n",
            "You win!\n"
          ]
        }
      ]
    },
    {
      "cell_type": "code",
      "source": [
        "# A dictionary contains strings as values. sort the dictionary by values.\n",
        "my_dict = {'a': 'zebra', 'b': 'apple', 'c': 'banana', 'd': 'orange'}\n",
        "\n",
        "sorted_dict = dict(sorted(my_dict.items(), key=lambda item: item[1]))\n",
        "\n",
        "print(\"Sorted Dictionary:\")\n",
        "for key, value in sorted_dict.items():\n",
        "    print(key, \":\", value)"
      ],
      "metadata": {
        "colab": {
          "base_uri": "https://localhost:8080/"
        },
        "id": "xiJ1zMCwzs6g",
        "outputId": "173c0e64-2452-4f95-d944-c05af9dcc0e8"
      },
      "execution_count": null,
      "outputs": [
        {
          "output_type": "stream",
          "name": "stdout",
          "text": [
            "Sorted Dictionary:\n",
            "b : apple\n",
            "c : banana\n",
            "d : orange\n",
            "a : zebra\n"
          ]
        }
      ]
    },
    {
      "cell_type": "code",
      "source": [
        "'''write a program to check if sum of any two numbers in list make the number\n",
        "taken from console.\n",
        "-\tNumbers-list: [23, 45, 72, 19, 35]\n",
        "-\tEnter a number: 54\n",
        "-\tSum (19,35) form the list makes 54.'''\n",
        "my_list = [23, 45, 72, 19, 35]\n",
        "target_number = int(input(\"Enter a number: \"))\n",
        "found = False\n",
        "for i in range(len(my_list)):\n",
        "  for j in range(i + 1, len(my_list)):\n",
        "    if my_list[i] + my_list[j] == target_number:\n",
        "       print(f\"Sum({my_list[i]},{my_list[j]}) from the list makes {target_number}.\")\n",
        "       found = True\n",
        "       break\n",
        "    if found:\n",
        "        break\n",
        "\n",
        "if not found:\n",
        "    print(f\"No two numbers in the list make {target_number}.\")"
      ],
      "metadata": {
        "colab": {
          "base_uri": "https://localhost:8080/"
        },
        "id": "7eL34OeRz6Y2",
        "outputId": "9a85759a-855b-4f0d-b8e1-9db5e12a3325"
      },
      "execution_count": null,
      "outputs": [
        {
          "output_type": "stream",
          "name": "stdout",
          "text": [
            "Enter a number: 91\n",
            "Sum(72,19) from the list makes 91.\n"
          ]
        }
      ]
    },
    {
      "cell_type": "code",
      "source": [
        "'''\tA over speed ticket is raised above 70 kmph.\n",
        "A list contains data collected at different check-point in a month.\n",
        "first ticket fine is 100 rupees and after that additional fifty rupees added\n",
        "to previous ticket fine.\n",
        "eg: \t1-ticket = 100\n",
        "      2-ticket = 150\n",
        "      3-ticket = 200 and ........\n",
        "Write a program to calculate total fine in a month.\n",
        "\t Eg: \tList = [92, 44, 55, 77, 82]\n",
        "        Total tickets raised: 3\n",
        "        Total fine charged: 450'''\n",
        "speeds = [92, 74, 80, 77, 82]\n",
        "total_tickets = 0\n",
        "total_fine = 0\n",
        "current_fine = 100\n",
        "for speed in speeds:\n",
        "    if speed > 70:\n",
        "        total_tickets += 1\n",
        "        total_fine += current_fine\n",
        "        current_fine += 50\n",
        "print(\"Total tickets raised:\", total_tickets)\n",
        "print(\"Total fine charged:\", total_fine)"
      ],
      "metadata": {
        "colab": {
          "base_uri": "https://localhost:8080/"
        },
        "id": "VIl2JMs00f7b",
        "outputId": "604f8c05-14f1-4a9e-96fe-03a9b60d2cec"
      },
      "execution_count": null,
      "outputs": [
        {
          "output_type": "stream",
          "name": "stdout",
          "text": [
            "Total tickets raised: 5\n",
            "Total fine charged: 1000\n"
          ]
        }
      ]
    },
    {
      "cell_type": "code",
      "source": [
        "'''write a function to take a list as parameter and return a list by sorting\n",
        "list where even numbers first and odd numbers comes after even numbers.\n",
        "Eg: \tActual_list: [9, 2, 3, 7, 1, 4, 5, 8, 0, 6]\n",
        "      Sorted_list: [0, 2, 4, 6, 8, 1, 3, 5, 7, 9]'''\n",
        "def sort_even_odd(lst):\n",
        "    def custom_key(num):\n",
        "        return num % 2\n",
        "    sorted_lst = sorted(lst, key=custom_key)\n",
        "    return sorted_lst\n",
        "actual_list=input(\"Enter Numbers with spaces:\").split()\n",
        "actual_list = [int(x) for x in actual_list]\n",
        "print(\"Actual List:\",actual_list)\n",
        "sorted_list = sort_even_odd(actual_list)\n",
        "print(\"Sorted list:\", sorted_list)"
      ],
      "metadata": {
        "colab": {
          "base_uri": "https://localhost:8080/"
        },
        "id": "hLkQsOw81mTi",
        "outputId": "4a97e09f-7bc7-452c-df48-aeaedf13fc5c"
      },
      "execution_count": null,
      "outputs": [
        {
          "output_type": "stream",
          "name": "stdout",
          "text": [
            "Enter Numbers with spaces:1 2 3 4 5 6 7 8 9\n",
            "Actual List: [1, 2, 3, 4, 5, 6, 7, 8, 9]\n",
            "Sorted list: [2, 4, 6, 8, 1, 3, 5, 7, 9]\n"
          ]
        }
      ]
    },
    {
      "cell_type": "code",
      "source": [
        "'''write a program to take a number from user and check whether it is part of\n",
        "Fibonacci sequence or not.'''\n",
        "number = int(input(\"Enter a number: \"))\n",
        "fib1, fib2 = 0, 1\n",
        "while fib2 < number:\n",
        "    fib1, fib2 = fib2, fib1 + fib2\n",
        "if fib2 == number:\n",
        "    print(f\"{number} is part of the Fibonacci sequence.\")\n",
        "else:\n",
        "    print(f\"{number} is not part of the Fibonacci sequence.\")"
      ],
      "metadata": {
        "id": "0MBZpSjh13Q-",
        "colab": {
          "base_uri": "https://localhost:8080/"
        },
        "outputId": "2a82da4a-71d6-4067-d75c-fbc71814b384"
      },
      "execution_count": null,
      "outputs": [
        {
          "output_type": "stream",
          "name": "stdout",
          "text": [
            "Enter a number: 8\n",
            "8 is part of the Fibonacci sequence.\n"
          ]
        }
      ]
    },
    {
      "cell_type": "code",
      "source": [
        "'''Write a program to perform exception handling and raise exception with\n",
        "message - 'No Error Found' in else block if no exception found in program.'''\n",
        "try:\n",
        "    numerator = int(input(\"Enter numerator: \"))\n",
        "    denominator = int(input(\"Enter denominator: \"))\n",
        "    result = numerator / denominator\n",
        "    print(\"Result:\", result)\n",
        "\n",
        "except ZeroDivisionError:\n",
        "    print(\"Error: Division by zero!\")\n",
        "\n",
        "except ValueError:\n",
        "    print(\"Error: Invalid input! Please enter a valid number.\")\n",
        "\n",
        "else:\n",
        "    Exception('No Error Found')\n",
        "\n",
        "finally:\n",
        "    print(\"Execution completed.\")"
      ],
      "metadata": {
        "colab": {
          "base_uri": "https://localhost:8080/"
        },
        "id": "8xm5fWyo3qdJ",
        "outputId": "1cbc67d6-16bd-40f1-d263-4982c9b92464"
      },
      "execution_count": null,
      "outputs": [
        {
          "output_type": "stream",
          "name": "stdout",
          "text": [
            "Enter numerator: 100\n",
            "Enter denominator: 2\n",
            "Result: 50.0\n",
            "Execution completed.\n"
          ]
        }
      ]
    }
  ]
}